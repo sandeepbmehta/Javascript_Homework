{
 "cells": [
  {
   "cell_type": "code",
   "execution_count": 5,
   "metadata": {},
   "outputs": [
    {
     "ename": "ModuleNotFoundError",
     "evalue": "No module named 'data'",
     "output_type": "error",
     "traceback": [
      "\u001b[1;31m---------------------------------------------------------------------------\u001b[0m",
      "\u001b[1;31mModuleNotFoundError\u001b[0m                       Traceback (most recent call last)",
      "\u001b[1;32m<ipython-input-5-1f1b230744ee>\u001b[0m in \u001b[0;36m<module>\u001b[1;34m()\u001b[0m\n\u001b[0;32m      1\u001b[0m \u001b[1;32mimport\u001b[0m \u001b[0mpixiedust_node\u001b[0m\u001b[1;33m\u001b[0m\u001b[0m\n\u001b[1;32m----> 2\u001b[1;33m \u001b[1;32mfrom\u001b[0m \u001b[0mdata\u001b[0m \u001b[1;32mimport\u001b[0m \u001b[0mdata\u001b[0m\u001b[1;33m\u001b[0m\u001b[0m\n\u001b[0m",
      "\u001b[1;31mModuleNotFoundError\u001b[0m: No module named 'data'"
     ]
    }
   ],
   "source": [
    "import pixiedust_node\n",
    "#from data import data"
   ]
  },
  {
   "cell_type": "code",
   "execution_count": 6,
   "metadata": {},
   "outputs": [
    {
     "name": "stdout",
     "output_type": "stream",
     "text": [
      "... ... ... ... ... ... ... ... ... ... ... ... ... ... ... ... ... ...\n",
      "[ { datetime: '1/1/2010',\n",
      "city: 'benton',\n",
      "state: 'ar',\n",
      "country: 'us',\n",
      "shape: 'circle',\n",
      "durationMinutes: '5 mins.',\n",
      "comments:\n",
      "'4 bright green circles high in the sky going in circles then one bright green light at my front door.' },\n",
      "{ datetime: '1/1/2010',\n",
      "city: 'bonita',\n",
      "state: 'ca',\n",
      "country: 'us',\n",
      "shape: 'light',\n",
      "durationMinutes: '13 minutes',\n",
      "comments:\n",
      "'Three bright red lights witnessed floating stationary over San Diego New Years Day 2010' } ]\n"
     ]
    }
   ],
   "source": [
    "%%node\n",
    "var data = [{\n",
    "    datetime: \"1/1/2010\",\n",
    "    city: \"benton\",\n",
    "    state: \"ar\",\n",
    "    country: \"us\",\n",
    "    shape: \"circle\",\n",
    "    durationMinutes: \"5 mins.\",\n",
    "    comments: \"4 bright green circles high in the sky going in circles then one bright green light at my front door.\"\n",
    "  },\n",
    "  {\n",
    "    datetime: \"1/1/2010\",\n",
    "    city: \"bonita\",\n",
    "    state: \"ca\",\n",
    "    country: \"us\",\n",
    "    shape: \"light\",\n",
    "    durationMinutes: \"13 minutes\",\n",
    "    comments: \"Three bright red lights witnessed floating stationary over San Diego New Years Day 2010\"\n",
    "  }\n",
    "];\n",
    "var tableData = data\n",
    "console.log(data)"
   ]
  },
  {
   "cell_type": "code",
   "execution_count": 21,
   "metadata": {},
   "outputs": [
    {
     "name": "stdout",
     "output_type": "stream",
     "text": [
      "... ... ... ... ... ... ..... ....... ....... ..... ....... ....... ..... ... ..... ....... ....... ..... ....... ....... ..... ... ..... ....... ....... ..... ....... ....... ..... ... ... ... ...\n",
      "true\n",
      "\n",
      "false\n",
      "\n",
      "[ { datetime: '1/1/2010',\n",
      "city: 'benton',\n",
      "state: 'ar',\n",
      "country: 'us',\n",
      "shape: 'circle',\n",
      "durationMinutes: '5 mins.',\n",
      "comments:\n",
      "'4 bright green circles high in the sky going in circles then one bright green light at my front door.' } ]\n"
     ]
    }
   ],
   "source": [
    "%%node\n",
    "inputdate = '1/1/2010'\n",
    "inputstate = 'ar'\n",
    "inputcountry = 'us'\n",
    "function filterdate(tableData){\n",
    "    //console.log(tableData.datetime);\n",
    "    //console.log(tableData.state);\n",
    "    var returnvalue = true;\n",
    "    //console.log (`input date: ${inputdate}`)\n",
    "    //console.log (`input state: ${inputstate}`)\n",
    "    if (inputdate !== \"\" && returnvalue){\n",
    "        if (tableData.datetime == inputdate){\n",
    "            returnvalue = true\n",
    "        }\n",
    "        else{\n",
    "            returnvalue = false\n",
    "        }\n",
    "    }\n",
    "    if (inputstate !== \"\" && returnvalue){\n",
    "        if (tableData.state == inputstate){\n",
    "            returnvalue = true\n",
    "        }\n",
    "        else{\n",
    "            returnvalue = false\n",
    "        }\n",
    "    }\n",
    "    if (inputcountry !== \"\" && returnvalue){\n",
    "        if (tableData.country == inputcountry){\n",
    "            returnvalue = true\n",
    "        }\n",
    "        else{\n",
    "            returnvalue = false\n",
    "        }\n",
    "    }\n",
    "    //console.log(returnvalue)\n",
    "    return(returnvalue)\n",
    "    \n",
    "}\n",
    "var data_date = tableData.filter(filterdate);\n",
    "console.log(data_date);\n",
    "//return (tableData.datetime = inputdate);"
   ]
  },
  {
   "cell_type": "code",
   "execution_count": null,
   "metadata": {},
   "outputs": [],
   "source": []
  }
 ],
 "metadata": {
  "kernelspec": {
   "display_name": "Python 3",
   "language": "python",
   "name": "python3"
  },
  "language_info": {
   "codemirror_mode": {
    "name": "ipython",
    "version": 3
   },
   "file_extension": ".py",
   "mimetype": "text/x-python",
   "name": "python",
   "nbconvert_exporter": "python",
   "pygments_lexer": "ipython3",
   "version": "3.6.6"
  }
 },
 "nbformat": 4,
 "nbformat_minor": 2
}
